{
 "cells": [
  {
   "cell_type": "markdown",
   "id": "bdad7610-bae4-48a6-ba47-e264f411e0ac",
   "metadata": {},
   "source": [
    "# Data Science Tools and Ecosystem\n"
   ]
  },
  {
   "cell_type": "markdown",
   "id": "5d5eefe6-2a09-4222-b77c-b25bb2841136",
   "metadata": {},
   "source": [
    "In this notebook, Data Science Tools and Ecosystem are summarized."
   ]
  },
  {
   "cell_type": "markdown",
   "id": "6df8dce6-0985-4f16-afec-f0970b346472",
   "metadata": {},
   "source": [
    "**Objectives:**\n",
    "* List popular languages for Data Science\n",
    "* List libraries commonly used by Data Scientists\n",
    "* Create a code cell to multiply and add numbers\n"
   ]
  },
  {
   "cell_type": "markdown",
   "id": "29343f6d-5b2b-41b1-8317-78944621f6df",
   "metadata": {},
   "source": [
    "Some of the popular languages that Data Scientists use are:\n",
    "1. Python\n",
    "2. R\n",
    "3. SQL\n",
    "4. java"
   ]
  },
  {
   "cell_type": "markdown",
   "id": "7feb2889-fa72-46ea-ba3b-654b95b6768f",
   "metadata": {},
   "source": [
    "Some of the commonly used libraries used by Data Scientists include:\n",
    "1. NumPy\n",
    "2. Pandas\n",
    "3. Matplotlib\n",
    "4. TensorFlow\n",
    "5. PyTorch"
   ]
  },
  {
   "cell_type": "markdown",
   "id": "2b5d6e82-6ffe-4a29-aa1c-6fa81e22da20",
   "metadata": {},
   "source": [
    "|Data Science Tools|\n",
    "|------------------|\n",
    "|Jupiter Notebook  |\n",
    "|Rstudio           |\n",
    "|Anaconda navigator|"
   ]
  },
  {
   "cell_type": "markdown",
   "id": "b96312a3-f705-41b0-a5ed-33ea682c2e5b",
   "metadata": {},
   "source": [
    "### Below are a few examples of evaluating arithmetic expressions in Python."
   ]
  },
  {
   "cell_type": "code",
   "execution_count": 3,
   "id": "72d862bf-d9a0-47f2-81f5-5f2452bdf923",
   "metadata": {},
   "outputs": [
    {
     "data": {
      "text/plain": [
       "17"
      ]
     },
     "execution_count": 3,
     "metadata": {},
     "output_type": "execute_result"
    }
   ],
   "source": [
    "#This a simple arithmetic expression to mutiply then add integers.\n",
    "(3*4)+5"
   ]
  },
  {
   "cell_type": "code",
   "execution_count": 4,
   "id": "a28ff18d-b785-4f0f-8071-f9ae7ab127b8",
   "metadata": {},
   "outputs": [
    {
     "data": {
      "text/plain": [
       "3.3333333333333335"
      ]
     },
     "execution_count": 4,
     "metadata": {},
     "output_type": "execute_result"
    }
   ],
   "source": [
    "# This will convert 200 minutes to hours by diving by 60.\n",
    "200/60"
   ]
  },
  {
   "cell_type": "markdown",
   "id": "d9b379cc-5daa-41bd-960a-8555f8a58943",
   "metadata": {},
   "source": [
    "## Author\n",
    "STEBY"
   ]
  },
  {
   "cell_type": "code",
   "execution_count": null,
   "id": "7d12ed94-7e3e-4208-a3bb-61a9fecd935f",
   "metadata": {},
   "outputs": [],
   "source": []
  }
 ],
 "metadata": {
  "kernelspec": {
   "display_name": "Python 3 (ipykernel)",
   "language": "python",
   "name": "python3"
  },
  "language_info": {
   "codemirror_mode": {
    "name": "ipython",
    "version": 3
   },
   "file_extension": ".py",
   "mimetype": "text/x-python",
   "name": "python",
   "nbconvert_exporter": "python",
   "pygments_lexer": "ipython3",
   "version": "3.12.5"
  }
 },
 "nbformat": 4,
 "nbformat_minor": 5
}
